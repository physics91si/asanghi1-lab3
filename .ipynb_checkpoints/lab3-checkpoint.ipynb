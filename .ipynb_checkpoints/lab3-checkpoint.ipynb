{
 "cells": [
  {
   "cell_type": "markdown",
   "metadata": {},
   "source": [
    "# Physics 91SI: Lab 3\n",
    "\n",
    "Part 1\n",
    "------"
   ]
  },
  {
   "cell_type": "code",
   "execution_count": 1,
   "metadata": {
    "collapsed": true
   },
   "outputs": [],
   "source": [
    "# Don't edit this function\n",
    "def load_sample():\n",
    "    \"\"\"Return the entire text of Hamlet in a string.\"\"\"\n",
    "    with open('hamlet.txt') as f:\n",
    "        sample = f.read()\n",
    "    return sample"
   ]
  },
  {
   "cell_type": "code",
   "execution_count": 2,
   "metadata": {
    "collapsed": false
   },
   "outputs": [],
   "source": [
    "# Edit this function. \"pass\" tells Python to do nothing.\n",
    "\n",
    "\n",
    "def parse_sample(): \n",
    "    sample=load_sample()\n",
    "    \n",
    "    sample=sample.replace('-',\" \")\n",
    "   \n",
    "    words=sample.split()\n",
    "    words_only=True\n",
    "    sort_list=True\n",
    "    if words_only==True:\n",
    "        for index,chars in enumerate(words):\n",
    "            words[index]=chars.replace(\"!\",\"\")\n",
    "        for index,chars in enumerate(words):\n",
    "            words[index]=chars.replace(\"?\",\"\")\n",
    "        for index,chars in enumerate(words):\n",
    "            words[index]=chars.replace(\"'\",\"\")\n",
    "        for index,chars in enumerate(words):\n",
    "            words[index]=chars.replace('\"',\"\")\n",
    "        for index,chars in enumerate(words):\n",
    "            words[index]=chars.replace(\"?\",\"\")\n",
    "        for index,chars in enumerate(words):\n",
    "            words[index]=chars.replace(\";\",\"\")\n",
    "        for index,chars in enumerate(words):\n",
    "            words[index]=chars.replace(\":\",\"\")\n",
    "        for index,chars in enumerate(words):\n",
    "            words[index]=chars.replace(\",\",\"\")\n",
    "        for index,chars in enumerate(words):\n",
    "            words[index]=chars.replace(\".\",\"\")\n",
    "            \n",
    "    if sort_list==True:\n",
    "        sortedWords=sorted(words)\n",
    "    \n",
    "    return sortedWords\n",
    "        \n",
    "        "
   ]
  },
  {
   "cell_type": "code",
   "execution_count": 3,
   "metadata": {
    "collapsed": false
   },
   "outputs": [],
   "source": [
    "def count_freq():\n",
    "    \n",
    "    wordList=parse_sample()\n",
    "    freq_dict={}\n",
    "    #freq_dict['vocab']='frequency'\n",
    "    count=1\n",
    "    startIndex=0\n",
    "    while (startIndex < len(wordList)-1):\n",
    "        count=1\n",
    "        word=wordList[startIndex]\n",
    "        for index,chars in enumerate(wordList[startIndex:]):\n",
    "            if word==chars:\n",
    "                count += 1\n",
    "        startIndex=startIndex+count\n",
    "        freq_dict[(word)]=count\n",
    "\n",
    "   \n",
    "    return freq_dict     \n",
    "    \n",
    " \n",
    "\n",
    "\n",
    "def mean():\n",
    "    freq_dict=count_freq()\n",
    "    Frequency_list=list(freq_dict.values())\n",
    "    average=sum(Frequency_list)/len(Frequency_list)\n",
    "    print(average)\n",
    "    return average\n",
    "\n",
    "   \n",
    "\n",
    "def stdev():\n",
    "   import statistics\n",
    "   freq_dict=count_freq()\n",
    "   Frequency_list=list(freq_dict.values())\n",
    "   dev=statistics.stdev(Frequency_list)\n",
    "   print(dev)\n",
    "   return dev\n",
    "    \n",
    "\n",
    "def median():\n",
    "   import statistics\n",
    "   freq_dict=count_freq()\n",
    "   Frequency_list=list(freq_dict.values())\n",
    "   med=statistics.median(Frequency_list)\n",
    "   print(med)\n",
    "   return med\n"
   ]
  },
  {
   "cell_type": "markdown",
   "metadata": {},
   "source": [
    "Part 3\n",
    "------"
   ]
  },
  {
   "cell_type": "code",
   "execution_count": 67,
   "metadata": {
    "collapsed": false
   },
   "outputs": [
    {
     "name": "stdout",
     "output_type": "stream",
     "text": [
      "32206\n",
      "3\n",
      "39.32073314588764\n",
      "9.851942490058121\n"
     ]
    }
   ],
   "source": [
    "def print_stats():\n",
    "    med=median()\n",
    "    dev=stdev()\n",
    "    average=mean()\n",
    "    stat_dict={}\n",
    "    stat_dict['stat']='value'\n",
    "    stat_dict['median']=med\n",
    "    stat_dict['stdev']=dev\n",
    "    stat_dict['average']=average\n",
    "    with open('hamlet.txt','a') as f:\n",
    "        f.write(str(stat_dict))\n",
    "print_stats()\n",
    "\n"
   ]
  },
  {
   "cell_type": "code",
   "execution_count": null,
   "metadata": {
    "collapsed": true
   },
   "outputs": [],
   "source": []
  },
  {
   "cell_type": "code",
   "execution_count": null,
   "metadata": {
    "collapsed": true
   },
   "outputs": [],
   "source": []
  }
 ],
 "metadata": {
  "kernelspec": {
   "display_name": "Python 3",
   "language": "python",
   "name": "python3"
  },
  "language_info": {
   "codemirror_mode": {
    "name": "ipython",
    "version": 3
   },
   "file_extension": ".py",
   "mimetype": "text/x-python",
   "name": "python",
   "nbconvert_exporter": "python",
   "pygments_lexer": "ipython3",
   "version": "3.6.0"
  }
 },
 "nbformat": 4,
 "nbformat_minor": 1
}
